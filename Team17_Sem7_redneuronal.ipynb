{
  "cells": [
    {
      "cell_type": "markdown",
      "metadata": {
        "id": "view-in-github",
        "colab_type": "text"
      },
      "source": [
        "<a href=\"https://colab.research.google.com/github/jeesperon/EjerciciosMNA/blob/main/Team17_Sem7_redneuronal.ipynb\" target=\"_parent\"><img src=\"https://colab.research.google.com/assets/colab-badge.svg\" alt=\"Open In Colab\"/></a>"
      ]
    },
    {
      "cell_type": "markdown",
      "metadata": {
        "id": "VFj0sSM06dYa"
      },
      "source": [
        "#**Maestría en Inteligencia Artificial Aplicada**\n",
        "##**Curso: Inteligencia Artificial y Aprendizaje Automático**\n",
        "###Tecnológico de Monterrey\n",
        "###Prof Luis Eduardo Falcón Morales\n",
        "\n",
        "## **Adtividad de la Semana 6**\n",
        "###**Árboles de decisión y bosque aleatorio.**\n"
      ]
    },
    {
      "cell_type": "markdown",
      "metadata": {
        "id": "Qgrvy0RGB9XI"
      },
      "source": [
        "**Nombres y matrículas de los integrantes del equipo:**\n",
        "\n",
        "* Esperón Carreón José Eduardo A01372413\n",
        "* Fernández Lara Jorge A01793062\n",
        "* Hernández Ramos Joel Orlando A00759664\n",
        "* Romo Cárdenas Juan Carlos A00260430\n",
        "* Torres Cantú David Alejandro A00818002\n"
      ]
    },
    {
      "cell_type": "markdown",
      "metadata": {
        "id": "FrJ2ahMODVj1"
      },
      "source": [
        "En cada sección deberás incluir todas las líneas de código necesarias para responder a cada uno de los ejercicios."
      ]
    },
    {
      "cell_type": "code",
      "execution_count": null,
      "metadata": {
        "id": "exXsscs-Dh-2"
      },
      "outputs": [],
      "source": [
        "\n",
        "# Incluye aquí todos módulos, librerías y paquetes que requieras.\n",
        "import numpy as np\n",
        "import pandas as pd\n",
        "import seaborn as sns\n",
        "\n",
        "from sklearn.neural_network import MLPRegressor\n",
        "from sklearn.ensemble import RandomForestClassifier \n",
        "from sklearn.linear_model import LogisticRegression\n",
        "\n",
        "from sklearn.model_selection import train_test_split \n",
        "from sklearn.metrics import confusion_matrix\n",
        "from sklearn.pipeline import Pipeline\n",
        "from sklearn.compose import ColumnTransformer, TransformedTargetRegressor\n",
        "from sklearn.metrics import classification_report, make_scorer\n",
        "from sklearn.model_selection import  cross_validate,  RepeatedKFold\n",
        "\n",
        "from sklearn.model_selection import GridSearchCV\n",
        "from sklearn.model_selection import validation_curve\n",
        "from sklearn.model_selection import learning_curve\n",
        "\n",
        "from sklearn.impute import SimpleImputer\n",
        "from sklearn.preprocessing import MinMaxScaler, OneHotEncoder, PowerTransformer\n",
        "\n",
        "\n",
        "import matplotlib.pyplot as plt"
      ]
    },
    {
      "cell_type": "markdown",
      "source": [
        "**Objetivo:** Predecir si una persona es clasificada como confiable a la asignación de un crédito, o no lo es tomando la base de datos históricos del South_German_Credit_Data_Set."
      ],
      "metadata": {
        "id": "gsWT8tXdV6HP"
      }
    },
    {
      "cell_type": "markdown",
      "metadata": {
        "id": "X25brD-gQdZM"
      },
      "source": [
        "#**Ejercicio-1.** "
      ]
    },
    {
      "cell_type": "markdown",
      "metadata": {
        "id": "9NgWEdBevHLf"
      },
      "source": [
        "En esta tarea considera únicamente la siguiente variable de salida que se concluye que es una de las  mejores en el artículo antes citado:  ‘Lifetime People who have liked a Page and engaged with a post'. Renombra dicha variable como “LPE” . Como variables de entrada selecciona las 7 variables que indican los autores en la Tabla 3 del artículo citado. "
      ]
    },
    {
      "cell_type": "markdown",
      "source": [
        "Para un manejo de los datos de forma directa, se descargó la base de datos y fue incluida en un repositorio público en \"GitHub\", de tal forma que cualquiera pueda acceder a él, sin necesidad de incorporar el archivo al directorio"
      ],
      "metadata": {
        "id": "Z8KwAcBaWFPe"
      }
    },
    {
      "cell_type": "code",
      "execution_count": null,
      "metadata": {
        "id": "3nU2GuWYCy6C"
      },
      "outputs": [],
      "source": [
        "filename='https://raw.githubusercontent.com/JoelOrlandoHR/RANDOM/main/dataset_Facebook.csv'"
      ]
    },
    {
      "cell_type": "markdown",
      "metadata": {
        "id": "b9IruEuB8Cw7"
      },
      "source": [
        "Para obtener una primera percepción, creamos el dataframe y visualizamos las primeras 5 filas.\n",
        "\n"
      ]
    },
    {
      "cell_type": "code",
      "execution_count": null,
      "metadata": {
        "colab": {
          "base_uri": "https://localhost:8080/",
          "height": 374
        },
        "id": "0ulkqXVGCy97",
        "outputId": "2eafcadb-56ad-48ff-de9f-7e1c92fda841"
      },
      "outputs": [
        {
          "output_type": "execute_result",
          "data": {
            "text/plain": [
              "   Page total likes    Type  Category  Post Month  Post Weekday  Post Hour  \\\n",
              "0            139441   Photo         2          12             4          3   \n",
              "1            139441  Status         2          12             3         10   \n",
              "2            139441   Photo         3          12             3          3   \n",
              "3            139441   Photo         2          12             2         10   \n",
              "4            139441   Photo         2          12             2          3   \n",
              "\n",
              "   Paid  Lifetime Post Total Reach  Lifetime Post Total Impressions  \\\n",
              "0   0.0                       2752                             5091   \n",
              "1   0.0                      10460                            19057   \n",
              "2   0.0                       2413                             4373   \n",
              "3   1.0                      50128                            87991   \n",
              "4   0.0                       7244                            13594   \n",
              "\n",
              "   Lifetime Engaged Users  Lifetime Post Consumers  \\\n",
              "0                     178                      109   \n",
              "1                    1457                     1361   \n",
              "2                     177                      113   \n",
              "3                    2211                      790   \n",
              "4                     671                      410   \n",
              "\n",
              "   Lifetime Post Consumptions  \\\n",
              "0                         159   \n",
              "1                        1674   \n",
              "2                         154   \n",
              "3                        1119   \n",
              "4                         580   \n",
              "\n",
              "   Lifetime Post Impressions by people who have liked your Page  \\\n",
              "0                                               3078              \n",
              "1                                              11710              \n",
              "2                                               2812              \n",
              "3                                              61027              \n",
              "4                                               6228              \n",
              "\n",
              "   Lifetime Post reach by people who like your Page   LPE  comment    like  \\\n",
              "0                                              1640   119        4    79.0   \n",
              "1                                              6112  1108        5   130.0   \n",
              "2                                              1503   132        0    66.0   \n",
              "3                                             32048  1386       58  1572.0   \n",
              "4                                              3200   396       19   325.0   \n",
              "\n",
              "   share  Total Interactions  \n",
              "0   17.0                 100  \n",
              "1   29.0                 164  \n",
              "2   14.0                  80  \n",
              "3  147.0                1777  \n",
              "4   49.0                 393  "
            ],
            "text/html": [
              "\n",
              "  <div id=\"df-5026d05c-d29b-4ee0-86bd-0fbbc632c006\">\n",
              "    <div class=\"colab-df-container\">\n",
              "      <div>\n",
              "<style scoped>\n",
              "    .dataframe tbody tr th:only-of-type {\n",
              "        vertical-align: middle;\n",
              "    }\n",
              "\n",
              "    .dataframe tbody tr th {\n",
              "        vertical-align: top;\n",
              "    }\n",
              "\n",
              "    .dataframe thead th {\n",
              "        text-align: right;\n",
              "    }\n",
              "</style>\n",
              "<table border=\"1\" class=\"dataframe\">\n",
              "  <thead>\n",
              "    <tr style=\"text-align: right;\">\n",
              "      <th></th>\n",
              "      <th>Page total likes</th>\n",
              "      <th>Type</th>\n",
              "      <th>Category</th>\n",
              "      <th>Post Month</th>\n",
              "      <th>Post Weekday</th>\n",
              "      <th>Post Hour</th>\n",
              "      <th>Paid</th>\n",
              "      <th>Lifetime Post Total Reach</th>\n",
              "      <th>Lifetime Post Total Impressions</th>\n",
              "      <th>Lifetime Engaged Users</th>\n",
              "      <th>Lifetime Post Consumers</th>\n",
              "      <th>Lifetime Post Consumptions</th>\n",
              "      <th>Lifetime Post Impressions by people who have liked your Page</th>\n",
              "      <th>Lifetime Post reach by people who like your Page</th>\n",
              "      <th>LPE</th>\n",
              "      <th>comment</th>\n",
              "      <th>like</th>\n",
              "      <th>share</th>\n",
              "      <th>Total Interactions</th>\n",
              "    </tr>\n",
              "  </thead>\n",
              "  <tbody>\n",
              "    <tr>\n",
              "      <th>0</th>\n",
              "      <td>139441</td>\n",
              "      <td>Photo</td>\n",
              "      <td>2</td>\n",
              "      <td>12</td>\n",
              "      <td>4</td>\n",
              "      <td>3</td>\n",
              "      <td>0.0</td>\n",
              "      <td>2752</td>\n",
              "      <td>5091</td>\n",
              "      <td>178</td>\n",
              "      <td>109</td>\n",
              "      <td>159</td>\n",
              "      <td>3078</td>\n",
              "      <td>1640</td>\n",
              "      <td>119</td>\n",
              "      <td>4</td>\n",
              "      <td>79.0</td>\n",
              "      <td>17.0</td>\n",
              "      <td>100</td>\n",
              "    </tr>\n",
              "    <tr>\n",
              "      <th>1</th>\n",
              "      <td>139441</td>\n",
              "      <td>Status</td>\n",
              "      <td>2</td>\n",
              "      <td>12</td>\n",
              "      <td>3</td>\n",
              "      <td>10</td>\n",
              "      <td>0.0</td>\n",
              "      <td>10460</td>\n",
              "      <td>19057</td>\n",
              "      <td>1457</td>\n",
              "      <td>1361</td>\n",
              "      <td>1674</td>\n",
              "      <td>11710</td>\n",
              "      <td>6112</td>\n",
              "      <td>1108</td>\n",
              "      <td>5</td>\n",
              "      <td>130.0</td>\n",
              "      <td>29.0</td>\n",
              "      <td>164</td>\n",
              "    </tr>\n",
              "    <tr>\n",
              "      <th>2</th>\n",
              "      <td>139441</td>\n",
              "      <td>Photo</td>\n",
              "      <td>3</td>\n",
              "      <td>12</td>\n",
              "      <td>3</td>\n",
              "      <td>3</td>\n",
              "      <td>0.0</td>\n",
              "      <td>2413</td>\n",
              "      <td>4373</td>\n",
              "      <td>177</td>\n",
              "      <td>113</td>\n",
              "      <td>154</td>\n",
              "      <td>2812</td>\n",
              "      <td>1503</td>\n",
              "      <td>132</td>\n",
              "      <td>0</td>\n",
              "      <td>66.0</td>\n",
              "      <td>14.0</td>\n",
              "      <td>80</td>\n",
              "    </tr>\n",
              "    <tr>\n",
              "      <th>3</th>\n",
              "      <td>139441</td>\n",
              "      <td>Photo</td>\n",
              "      <td>2</td>\n",
              "      <td>12</td>\n",
              "      <td>2</td>\n",
              "      <td>10</td>\n",
              "      <td>1.0</td>\n",
              "      <td>50128</td>\n",
              "      <td>87991</td>\n",
              "      <td>2211</td>\n",
              "      <td>790</td>\n",
              "      <td>1119</td>\n",
              "      <td>61027</td>\n",
              "      <td>32048</td>\n",
              "      <td>1386</td>\n",
              "      <td>58</td>\n",
              "      <td>1572.0</td>\n",
              "      <td>147.0</td>\n",
              "      <td>1777</td>\n",
              "    </tr>\n",
              "    <tr>\n",
              "      <th>4</th>\n",
              "      <td>139441</td>\n",
              "      <td>Photo</td>\n",
              "      <td>2</td>\n",
              "      <td>12</td>\n",
              "      <td>2</td>\n",
              "      <td>3</td>\n",
              "      <td>0.0</td>\n",
              "      <td>7244</td>\n",
              "      <td>13594</td>\n",
              "      <td>671</td>\n",
              "      <td>410</td>\n",
              "      <td>580</td>\n",
              "      <td>6228</td>\n",
              "      <td>3200</td>\n",
              "      <td>396</td>\n",
              "      <td>19</td>\n",
              "      <td>325.0</td>\n",
              "      <td>49.0</td>\n",
              "      <td>393</td>\n",
              "    </tr>\n",
              "  </tbody>\n",
              "</table>\n",
              "</div>\n",
              "      <button class=\"colab-df-convert\" onclick=\"convertToInteractive('df-5026d05c-d29b-4ee0-86bd-0fbbc632c006')\"\n",
              "              title=\"Convert this dataframe to an interactive table.\"\n",
              "              style=\"display:none;\">\n",
              "        \n",
              "  <svg xmlns=\"http://www.w3.org/2000/svg\" height=\"24px\"viewBox=\"0 0 24 24\"\n",
              "       width=\"24px\">\n",
              "    <path d=\"M0 0h24v24H0V0z\" fill=\"none\"/>\n",
              "    <path d=\"M18.56 5.44l.94 2.06.94-2.06 2.06-.94-2.06-.94-.94-2.06-.94 2.06-2.06.94zm-11 1L8.5 8.5l.94-2.06 2.06-.94-2.06-.94L8.5 2.5l-.94 2.06-2.06.94zm10 10l.94 2.06.94-2.06 2.06-.94-2.06-.94-.94-2.06-.94 2.06-2.06.94z\"/><path d=\"M17.41 7.96l-1.37-1.37c-.4-.4-.92-.59-1.43-.59-.52 0-1.04.2-1.43.59L10.3 9.45l-7.72 7.72c-.78.78-.78 2.05 0 2.83L4 21.41c.39.39.9.59 1.41.59.51 0 1.02-.2 1.41-.59l7.78-7.78 2.81-2.81c.8-.78.8-2.07 0-2.86zM5.41 20L4 18.59l7.72-7.72 1.47 1.35L5.41 20z\"/>\n",
              "  </svg>\n",
              "      </button>\n",
              "      \n",
              "  <style>\n",
              "    .colab-df-container {\n",
              "      display:flex;\n",
              "      flex-wrap:wrap;\n",
              "      gap: 12px;\n",
              "    }\n",
              "\n",
              "    .colab-df-convert {\n",
              "      background-color: #E8F0FE;\n",
              "      border: none;\n",
              "      border-radius: 50%;\n",
              "      cursor: pointer;\n",
              "      display: none;\n",
              "      fill: #1967D2;\n",
              "      height: 32px;\n",
              "      padding: 0 0 0 0;\n",
              "      width: 32px;\n",
              "    }\n",
              "\n",
              "    .colab-df-convert:hover {\n",
              "      background-color: #E2EBFA;\n",
              "      box-shadow: 0px 1px 2px rgba(60, 64, 67, 0.3), 0px 1px 3px 1px rgba(60, 64, 67, 0.15);\n",
              "      fill: #174EA6;\n",
              "    }\n",
              "\n",
              "    [theme=dark] .colab-df-convert {\n",
              "      background-color: #3B4455;\n",
              "      fill: #D2E3FC;\n",
              "    }\n",
              "\n",
              "    [theme=dark] .colab-df-convert:hover {\n",
              "      background-color: #434B5C;\n",
              "      box-shadow: 0px 1px 3px 1px rgba(0, 0, 0, 0.15);\n",
              "      filter: drop-shadow(0px 1px 2px rgba(0, 0, 0, 0.3));\n",
              "      fill: #FFFFFF;\n",
              "    }\n",
              "  </style>\n",
              "\n",
              "      <script>\n",
              "        const buttonEl =\n",
              "          document.querySelector('#df-5026d05c-d29b-4ee0-86bd-0fbbc632c006 button.colab-df-convert');\n",
              "        buttonEl.style.display =\n",
              "          google.colab.kernel.accessAllowed ? 'block' : 'none';\n",
              "\n",
              "        async function convertToInteractive(key) {\n",
              "          const element = document.querySelector('#df-5026d05c-d29b-4ee0-86bd-0fbbc632c006');\n",
              "          const dataTable =\n",
              "            await google.colab.kernel.invokeFunction('convertToInteractive',\n",
              "                                                     [key], {});\n",
              "          if (!dataTable) return;\n",
              "\n",
              "          const docLinkHtml = 'Like what you see? Visit the ' +\n",
              "            '<a target=\"_blank\" href=https://colab.research.google.com/notebooks/data_table.ipynb>data table notebook</a>'\n",
              "            + ' to learn more about interactive tables.';\n",
              "          element.innerHTML = '';\n",
              "          dataTable['output_type'] = 'display_data';\n",
              "          await google.colab.output.renderOutput(dataTable, element);\n",
              "          const docLink = document.createElement('div');\n",
              "          docLink.innerHTML = docLinkHtml;\n",
              "          element.appendChild(docLink);\n",
              "        }\n",
              "      </script>\n",
              "    </div>\n",
              "  </div>\n",
              "  "
            ]
          },
          "metadata": {},
          "execution_count": 3
        }
      ],
      "source": [
        "df=pd.read_csv(filename, delimiter=';')\n",
        "df.rename(columns={'Lifetime People who have liked your Page and engaged with your post': 'LPE'}, inplace=True)\n",
        "df.head()"
      ]
    },
    {
      "cell_type": "markdown",
      "source": [
        "Una vez que hemos visualizado que nuestro DataFrame fue creado de manera correcta, definimos las variables de entrada y las Variables de Salida. "
      ],
      "metadata": {
        "id": "xiNCttK_HAgV"
      }
    },
    {
      "cell_type": "code",
      "source": [
        "X=df[['Post Hour', 'Paid', 'Post Month', 'Post Weekday', 'Type', 'Category', 'Page total likes']]\n",
        "y=df[['LPE']] # se cambio a una variable"
      ],
      "metadata": {
        "id": "5KSxcvFljWqo"
      },
      "execution_count": null,
      "outputs": []
    },
    {
      "cell_type": "code",
      "source": [
        "#creamos este df en caso de que necesitemos un dataframe solamente con las columnas 7 columnas de entrada y las 3 de salida que usaremos en el ejercicio.\n",
        "df_v2= df.copy()[['Post Hour', 'Paid', 'Post Month', 'Post Weekday', 'Type', 'Category', 'Page total likes', 'LPE']] #se cambio\n",
        "df_v2.head()"
      ],
      "metadata": {
        "colab": {
          "base_uri": "https://localhost:8080/",
          "height": 206
        },
        "id": "P-JxXO_ePvQ9",
        "outputId": "ce3a93b9-75bc-46bb-a1ed-a3c961b174ee"
      },
      "execution_count": null,
      "outputs": [
        {
          "output_type": "execute_result",
          "data": {
            "text/plain": [
              "   Post Hour  Paid  Post Month  Post Weekday    Type  Category  \\\n",
              "0          3   0.0          12             4   Photo         2   \n",
              "1         10   0.0          12             3  Status         2   \n",
              "2          3   0.0          12             3   Photo         3   \n",
              "3         10   1.0          12             2   Photo         2   \n",
              "4          3   0.0          12             2   Photo         2   \n",
              "\n",
              "   Page total likes   LPE  \n",
              "0            139441   119  \n",
              "1            139441  1108  \n",
              "2            139441   132  \n",
              "3            139441  1386  \n",
              "4            139441   396  "
            ],
            "text/html": [
              "\n",
              "  <div id=\"df-7771b73f-2b14-4370-8a6c-c3a7b54a1bff\">\n",
              "    <div class=\"colab-df-container\">\n",
              "      <div>\n",
              "<style scoped>\n",
              "    .dataframe tbody tr th:only-of-type {\n",
              "        vertical-align: middle;\n",
              "    }\n",
              "\n",
              "    .dataframe tbody tr th {\n",
              "        vertical-align: top;\n",
              "    }\n",
              "\n",
              "    .dataframe thead th {\n",
              "        text-align: right;\n",
              "    }\n",
              "</style>\n",
              "<table border=\"1\" class=\"dataframe\">\n",
              "  <thead>\n",
              "    <tr style=\"text-align: right;\">\n",
              "      <th></th>\n",
              "      <th>Post Hour</th>\n",
              "      <th>Paid</th>\n",
              "      <th>Post Month</th>\n",
              "      <th>Post Weekday</th>\n",
              "      <th>Type</th>\n",
              "      <th>Category</th>\n",
              "      <th>Page total likes</th>\n",
              "      <th>LPE</th>\n",
              "    </tr>\n",
              "  </thead>\n",
              "  <tbody>\n",
              "    <tr>\n",
              "      <th>0</th>\n",
              "      <td>3</td>\n",
              "      <td>0.0</td>\n",
              "      <td>12</td>\n",
              "      <td>4</td>\n",
              "      <td>Photo</td>\n",
              "      <td>2</td>\n",
              "      <td>139441</td>\n",
              "      <td>119</td>\n",
              "    </tr>\n",
              "    <tr>\n",
              "      <th>1</th>\n",
              "      <td>10</td>\n",
              "      <td>0.0</td>\n",
              "      <td>12</td>\n",
              "      <td>3</td>\n",
              "      <td>Status</td>\n",
              "      <td>2</td>\n",
              "      <td>139441</td>\n",
              "      <td>1108</td>\n",
              "    </tr>\n",
              "    <tr>\n",
              "      <th>2</th>\n",
              "      <td>3</td>\n",
              "      <td>0.0</td>\n",
              "      <td>12</td>\n",
              "      <td>3</td>\n",
              "      <td>Photo</td>\n",
              "      <td>3</td>\n",
              "      <td>139441</td>\n",
              "      <td>132</td>\n",
              "    </tr>\n",
              "    <tr>\n",
              "      <th>3</th>\n",
              "      <td>10</td>\n",
              "      <td>1.0</td>\n",
              "      <td>12</td>\n",
              "      <td>2</td>\n",
              "      <td>Photo</td>\n",
              "      <td>2</td>\n",
              "      <td>139441</td>\n",
              "      <td>1386</td>\n",
              "    </tr>\n",
              "    <tr>\n",
              "      <th>4</th>\n",
              "      <td>3</td>\n",
              "      <td>0.0</td>\n",
              "      <td>12</td>\n",
              "      <td>2</td>\n",
              "      <td>Photo</td>\n",
              "      <td>2</td>\n",
              "      <td>139441</td>\n",
              "      <td>396</td>\n",
              "    </tr>\n",
              "  </tbody>\n",
              "</table>\n",
              "</div>\n",
              "      <button class=\"colab-df-convert\" onclick=\"convertToInteractive('df-7771b73f-2b14-4370-8a6c-c3a7b54a1bff')\"\n",
              "              title=\"Convert this dataframe to an interactive table.\"\n",
              "              style=\"display:none;\">\n",
              "        \n",
              "  <svg xmlns=\"http://www.w3.org/2000/svg\" height=\"24px\"viewBox=\"0 0 24 24\"\n",
              "       width=\"24px\">\n",
              "    <path d=\"M0 0h24v24H0V0z\" fill=\"none\"/>\n",
              "    <path d=\"M18.56 5.44l.94 2.06.94-2.06 2.06-.94-2.06-.94-.94-2.06-.94 2.06-2.06.94zm-11 1L8.5 8.5l.94-2.06 2.06-.94-2.06-.94L8.5 2.5l-.94 2.06-2.06.94zm10 10l.94 2.06.94-2.06 2.06-.94-2.06-.94-.94-2.06-.94 2.06-2.06.94z\"/><path d=\"M17.41 7.96l-1.37-1.37c-.4-.4-.92-.59-1.43-.59-.52 0-1.04.2-1.43.59L10.3 9.45l-7.72 7.72c-.78.78-.78 2.05 0 2.83L4 21.41c.39.39.9.59 1.41.59.51 0 1.02-.2 1.41-.59l7.78-7.78 2.81-2.81c.8-.78.8-2.07 0-2.86zM5.41 20L4 18.59l7.72-7.72 1.47 1.35L5.41 20z\"/>\n",
              "  </svg>\n",
              "      </button>\n",
              "      \n",
              "  <style>\n",
              "    .colab-df-container {\n",
              "      display:flex;\n",
              "      flex-wrap:wrap;\n",
              "      gap: 12px;\n",
              "    }\n",
              "\n",
              "    .colab-df-convert {\n",
              "      background-color: #E8F0FE;\n",
              "      border: none;\n",
              "      border-radius: 50%;\n",
              "      cursor: pointer;\n",
              "      display: none;\n",
              "      fill: #1967D2;\n",
              "      height: 32px;\n",
              "      padding: 0 0 0 0;\n",
              "      width: 32px;\n",
              "    }\n",
              "\n",
              "    .colab-df-convert:hover {\n",
              "      background-color: #E2EBFA;\n",
              "      box-shadow: 0px 1px 2px rgba(60, 64, 67, 0.3), 0px 1px 3px 1px rgba(60, 64, 67, 0.15);\n",
              "      fill: #174EA6;\n",
              "    }\n",
              "\n",
              "    [theme=dark] .colab-df-convert {\n",
              "      background-color: #3B4455;\n",
              "      fill: #D2E3FC;\n",
              "    }\n",
              "\n",
              "    [theme=dark] .colab-df-convert:hover {\n",
              "      background-color: #434B5C;\n",
              "      box-shadow: 0px 1px 3px 1px rgba(0, 0, 0, 0.15);\n",
              "      filter: drop-shadow(0px 1px 2px rgba(0, 0, 0, 0.3));\n",
              "      fill: #FFFFFF;\n",
              "    }\n",
              "  </style>\n",
              "\n",
              "      <script>\n",
              "        const buttonEl =\n",
              "          document.querySelector('#df-7771b73f-2b14-4370-8a6c-c3a7b54a1bff button.colab-df-convert');\n",
              "        buttonEl.style.display =\n",
              "          google.colab.kernel.accessAllowed ? 'block' : 'none';\n",
              "\n",
              "        async function convertToInteractive(key) {\n",
              "          const element = document.querySelector('#df-7771b73f-2b14-4370-8a6c-c3a7b54a1bff');\n",
              "          const dataTable =\n",
              "            await google.colab.kernel.invokeFunction('convertToInteractive',\n",
              "                                                     [key], {});\n",
              "          if (!dataTable) return;\n",
              "\n",
              "          const docLinkHtml = 'Like what you see? Visit the ' +\n",
              "            '<a target=\"_blank\" href=https://colab.research.google.com/notebooks/data_table.ipynb>data table notebook</a>'\n",
              "            + ' to learn more about interactive tables.';\n",
              "          element.innerHTML = '';\n",
              "          dataTable['output_type'] = 'display_data';\n",
              "          await google.colab.output.renderOutput(dataTable, element);\n",
              "          const docLink = document.createElement('div');\n",
              "          docLink.innerHTML = docLinkHtml;\n",
              "          element.appendChild(docLink);\n",
              "        }\n",
              "      </script>\n",
              "    </div>\n",
              "  </div>\n",
              "  "
            ]
          },
          "metadata": {},
          "execution_count": 5
        }
      ]
    },
    {
      "cell_type": "markdown",
      "metadata": {
        "id": "xZhr2hkECzVv"
      },
      "source": [
        "#**Ejercicio-2.**"
      ]
    },
    {
      "cell_type": "markdown",
      "metadata": {
        "id": "NeTYskhN8eud"
      },
      "source": [
        "Realiza una partición de los datos con 100 datos de Prueba y el resto para entrenamiento y \n",
        "validación."
      ]
    },
    {
      "cell_type": "markdown",
      "source": [
        "Generamos el modelo conforme a lo especificado en las instrucciones, separando la variable resultado."
      ],
      "metadata": {
        "id": "O9Nsr9rtX0fh"
      }
    },
    {
      "cell_type": "code",
      "execution_count": null,
      "metadata": {
        "id": "kGfAoOPkC1PP"
      },
      "outputs": [],
      "source": [
        "X_train, X_test, y_train, y_test = train_test_split(X, y, train_size=0.80, random_state=5)\n",
        "#Cabe destacar que 400 datos de entrenamiento corresponden al 80% de nuestra población."
      ]
    },
    {
      "cell_type": "markdown",
      "metadata": {
        "id": "NCunuooTC2W3"
      },
      "source": [
        "#**Ejercicio-3.**"
      ]
    },
    {
      "cell_type": "markdown",
      "source": [
        "Definirás tus propias funciones de errores para este problema de regresión. Los errores que \n",
        "utilizarás son la raíz cuadrada del error cuadrático medio RMSE, el error absoluto medio MAE y el \n",
        "error porcentual absoluto medio MAPE. "
      ],
      "metadata": {
        "id": "K8hAm8xcH3XX"
      }
    },
    {
      "cell_type": "code",
      "source": [
        "def my_RMSE (y_real, y_pred):\n",
        "\n",
        "  square_error=np.square(np.subtract(y_real,y_pred))\n",
        "  mean_square=np.mean(square_error)\n",
        "  result_rmse= np.sqrt(mean_square)\n",
        "\n",
        "  return result_rmse\n",
        "\n",
        "def my_MAE (y_real, y_pred):\n",
        "\n",
        "  absolute_error= np.absolute(y_real-y_pred)\n",
        "  result_mae=np.mean(absolute_error)\n",
        "  \n",
        "  return result_mae\n",
        "\n",
        "def my_MAPE (y_real, y_pred):\n",
        "\n",
        "  percentage_abs_error= np.absolute((y_real-y_pred)/y_real)\n",
        "  result_mape= np.mean(percentage_abs_error)\n",
        "\n",
        "  return result_mape"
      ],
      "metadata": {
        "id": "2NrsrJyhH4gR"
      },
      "execution_count": null,
      "outputs": []
    },
    {
      "cell_type": "markdown",
      "source": [
        "#**Ejercicio-4.**"
      ],
      "metadata": {
        "id": "hZnD3weRJ7N8"
      }
    },
    {
      "cell_type": "markdown",
      "source": [
        "En la página de la UCI, así como en el artículo de los autores previamente citado encuentras información en relación al significado de cada variable. Haz una análisis de tus datos y lleva a cabo las transformaciones que consideres adecuadas tanto en los datos de entrada, como en las de salida.  Utiliza un Pipeline para evitar el filtrado de información. \n",
        "\n",
        "De acuerdo al artículo, las siete variables de entrada se definen de la siguiente manera:\n",
        "\n",
        "1. 'Category': Variable de tipo Categórico. Puede asumir tres valores.\n",
        "\n",
        "2. 'Page total likes': Variable númerica. \n",
        "\n",
        "3. 'Type': Variable categórica. Puede tomar 4 valores.\n",
        "\n",
        "4. 'Post month': Es una variable de tiempo y fecha. Sin embargo, en nuestros datos podriamos considerarlo categorico pues solo puede tomar valores del 1 al 12 haciendo alucion a cada mes del año. \n",
        "\n",
        "5. 'Post hour': Es una variable de tiempo y fecha. Sin embargo, en nuestros datos podriamos considerarlo categorico pues solo puede tomar valores del 0 al 23 haciendo alucion a las horas del año. No hay minutos (o decimales).\n",
        "\n",
        "6. 'Post weekday': Es una variable de tiempo y fecha. Sin embargo, en nuestros datos podriamos considerarlo categorico pues solo puede tomar valores del 1 al 7 haciendo alucion a las horas del año. 1 es Domingo y 7 Sábado. \n",
        "\n",
        "7. 'Paid': Variable Binaria que hacea referencia si se hubo pago a Facebook (si o no). \n",
        "\n",
        "Por otro lado, las variables de salida tienen las siguientes características.\n",
        "\n",
        "1. 'Lifetime People who have liked a Page and engaged with a post': Esta variable es númerica. Debido a que se refiere al número de personas que le dieron like y click a la publicación podemos inferir que solamente son números enteros. \n",
        "\n",
        "\n"
      ],
      "metadata": {
        "id": "T4rOJphkX-Yh"
      }
    },
    {
      "cell_type": "markdown",
      "metadata": {
        "id": "nPxAJk6gl1UL"
      },
      "source": [
        "##ANALIZANDO LOS DATOS ORIGINALES\n",
        "\n",
        "Antes de resolver decidir si vamos a imputar y transformar nuestros datos haremos un breve análisis para visualizar las carácteristicas de nuestros datos. \n",
        "\n",
        "Comenzamos analizando nuestros datos para saber si hay datos nulos. "
      ]
    },
    {
      "cell_type": "code",
      "execution_count": null,
      "metadata": {
        "colab": {
          "base_uri": "https://localhost:8080/"
        },
        "id": "YXlcSWA-C4Dj",
        "outputId": "0ce591ab-ccb2-4d71-fe17-c28d53eaaa53"
      },
      "outputs": [
        {
          "output_type": "execute_result",
          "data": {
            "text/plain": [
              "Post Hour           False\n",
              "Paid                 True\n",
              "Post Month          False\n",
              "Post Weekday        False\n",
              "Type                False\n",
              "Category            False\n",
              "Page total likes    False\n",
              "LPE                 False\n",
              "dtype: bool"
            ]
          },
          "metadata": {},
          "execution_count": 8
        }
      ],
      "source": [
        "df_v2.isna().any()"
      ]
    },
    {
      "cell_type": "markdown",
      "source": [
        "Con estos resultados nos podemos dar cuenta de que nuestro data set tiene dos variables con datos nulos: Like y Paid.\n",
        "Haremos un análisis un poco más profundo para revisar el tipo de información que tenemos en cada variable."
      ],
      "metadata": {
        "id": "dG1ZwK5p_7oH"
      }
    },
    {
      "cell_type": "code",
      "source": [
        "df_v2.info()"
      ],
      "metadata": {
        "colab": {
          "base_uri": "https://localhost:8080/"
        },
        "id": "QwJaRYNQA5wA",
        "outputId": "06fc37ed-4b12-42f0-e2fd-805a1938beca"
      },
      "execution_count": null,
      "outputs": [
        {
          "output_type": "stream",
          "name": "stdout",
          "text": [
            "<class 'pandas.core.frame.DataFrame'>\n",
            "RangeIndex: 500 entries, 0 to 499\n",
            "Data columns (total 8 columns):\n",
            " #   Column            Non-Null Count  Dtype  \n",
            "---  ------            --------------  -----  \n",
            " 0   Post Hour         500 non-null    int64  \n",
            " 1   Paid              499 non-null    float64\n",
            " 2   Post Month        500 non-null    int64  \n",
            " 3   Post Weekday      500 non-null    int64  \n",
            " 4   Type              500 non-null    object \n",
            " 5   Category          500 non-null    int64  \n",
            " 6   Page total likes  500 non-null    int64  \n",
            " 7   LPE               500 non-null    int64  \n",
            "dtypes: float64(1), int64(6), object(1)\n",
            "memory usage: 31.4+ KB\n"
          ]
        }
      ]
    },
    {
      "cell_type": "code",
      "source": [
        "df_v2['Type'].unique()"
      ],
      "metadata": {
        "colab": {
          "base_uri": "https://localhost:8080/"
        },
        "id": "gBfCnn_5KHFK",
        "outputId": "53bd66ac-85bd-4cfe-9f63-0d2711fa2d3c"
      },
      "execution_count": null,
      "outputs": [
        {
          "output_type": "execute_result",
          "data": {
            "text/plain": [
              "array(['Photo', 'Status', 'Link', 'Video'], dtype=object)"
            ]
          },
          "metadata": {},
          "execution_count": 10
        }
      ]
    },
    {
      "cell_type": "markdown",
      "source": [
        "Volvemos a darnos cuenta de que tenemos datos nulos en esa variable y adicionalmente nos percatamos de que la variable Type es un string u objeto. Esto se tomará en cuenta más adelante a la hora de transformar.\n"
      ],
      "metadata": {
        "id": "PHhqYbfYA5Om"
      }
    },
    {
      "cell_type": "markdown",
      "source": [
        "Ahora continuaremos a dividir nuestras variables según el tipo que fue descrito en el artículo "
      ],
      "metadata": {
        "id": "-R8S_t9ARc9R"
      }
    },
    {
      "cell_type": "code",
      "source": [
        "Categorical_Variables= ['Category', 'Post Month', 'Post Hour','Post Weekday', 'Type']\n",
        "\n",
        "X_Numerical_Variables= ['Page total likes']\n",
        "\n",
        "Y_Numerical_Variables=['LPE'] #se cambio a una variable\n",
        "\n",
        "Binary=['Paid']"
      ],
      "metadata": {
        "id": "lNpFBK8fRj_Y"
      },
      "execution_count": null,
      "outputs": []
    },
    {
      "cell_type": "markdown",
      "source": [
        "Ahora es importante mencionar que en este momento de ejercicio no estamos haciendo distinción entre variables de entrada y salida pues le dimos prioridad a hacer el mismo tipo de imputaciones, escalaciones y transformaciones al tipo de variable. \n",
        "\n",
        "Primero analizaremos cada tipo de dato para comparar diferencias antes y después de las imputaciones y transformaciones.\n"
      ],
      "metadata": {
        "id": "WFkHbTsTYmbp"
      }
    },
    {
      "cell_type": "markdown",
      "source": [
        "1. **Variables Númericas**"
      ],
      "metadata": {
        "id": "zmc0WKOTYoNt"
      }
    },
    {
      "cell_type": "code",
      "execution_count": null,
      "metadata": {
        "colab": {
          "base_uri": "https://localhost:8080/",
          "height": 300
        },
        "id": "BKI80-YdC4HN",
        "outputId": "ea3ed0b1-7f0e-49c3-dd15-32e353e4b6d7"
      },
      "outputs": [
        {
          "output_type": "execute_result",
          "data": {
            "text/plain": [
              "       Page total likes          LPE\n",
              "count        400.000000   400.000000\n",
              "mean      123493.317500   613.715000\n",
              "std        16094.977964   638.235403\n",
              "min        81370.000000     9.000000\n",
              "25%       113028.000000   286.000000\n",
              "50%       129600.000000   403.000000\n",
              "75%       136642.000000   671.500000\n",
              "max       139441.000000  4376.000000"
            ],
            "text/html": [
              "\n",
              "  <div id=\"df-9c175c35-6516-4db6-a36a-cebae0a54ec0\">\n",
              "    <div class=\"colab-df-container\">\n",
              "      <div>\n",
              "<style scoped>\n",
              "    .dataframe tbody tr th:only-of-type {\n",
              "        vertical-align: middle;\n",
              "    }\n",
              "\n",
              "    .dataframe tbody tr th {\n",
              "        vertical-align: top;\n",
              "    }\n",
              "\n",
              "    .dataframe thead th {\n",
              "        text-align: right;\n",
              "    }\n",
              "</style>\n",
              "<table border=\"1\" class=\"dataframe\">\n",
              "  <thead>\n",
              "    <tr style=\"text-align: right;\">\n",
              "      <th></th>\n",
              "      <th>Page total likes</th>\n",
              "      <th>LPE</th>\n",
              "    </tr>\n",
              "  </thead>\n",
              "  <tbody>\n",
              "    <tr>\n",
              "      <th>count</th>\n",
              "      <td>400.000000</td>\n",
              "      <td>400.000000</td>\n",
              "    </tr>\n",
              "    <tr>\n",
              "      <th>mean</th>\n",
              "      <td>123493.317500</td>\n",
              "      <td>613.715000</td>\n",
              "    </tr>\n",
              "    <tr>\n",
              "      <th>std</th>\n",
              "      <td>16094.977964</td>\n",
              "      <td>638.235403</td>\n",
              "    </tr>\n",
              "    <tr>\n",
              "      <th>min</th>\n",
              "      <td>81370.000000</td>\n",
              "      <td>9.000000</td>\n",
              "    </tr>\n",
              "    <tr>\n",
              "      <th>25%</th>\n",
              "      <td>113028.000000</td>\n",
              "      <td>286.000000</td>\n",
              "    </tr>\n",
              "    <tr>\n",
              "      <th>50%</th>\n",
              "      <td>129600.000000</td>\n",
              "      <td>403.000000</td>\n",
              "    </tr>\n",
              "    <tr>\n",
              "      <th>75%</th>\n",
              "      <td>136642.000000</td>\n",
              "      <td>671.500000</td>\n",
              "    </tr>\n",
              "    <tr>\n",
              "      <th>max</th>\n",
              "      <td>139441.000000</td>\n",
              "      <td>4376.000000</td>\n",
              "    </tr>\n",
              "  </tbody>\n",
              "</table>\n",
              "</div>\n",
              "      <button class=\"colab-df-convert\" onclick=\"convertToInteractive('df-9c175c35-6516-4db6-a36a-cebae0a54ec0')\"\n",
              "              title=\"Convert this dataframe to an interactive table.\"\n",
              "              style=\"display:none;\">\n",
              "        \n",
              "  <svg xmlns=\"http://www.w3.org/2000/svg\" height=\"24px\"viewBox=\"0 0 24 24\"\n",
              "       width=\"24px\">\n",
              "    <path d=\"M0 0h24v24H0V0z\" fill=\"none\"/>\n",
              "    <path d=\"M18.56 5.44l.94 2.06.94-2.06 2.06-.94-2.06-.94-.94-2.06-.94 2.06-2.06.94zm-11 1L8.5 8.5l.94-2.06 2.06-.94-2.06-.94L8.5 2.5l-.94 2.06-2.06.94zm10 10l.94 2.06.94-2.06 2.06-.94-2.06-.94-.94-2.06-.94 2.06-2.06.94z\"/><path d=\"M17.41 7.96l-1.37-1.37c-.4-.4-.92-.59-1.43-.59-.52 0-1.04.2-1.43.59L10.3 9.45l-7.72 7.72c-.78.78-.78 2.05 0 2.83L4 21.41c.39.39.9.59 1.41.59.51 0 1.02-.2 1.41-.59l7.78-7.78 2.81-2.81c.8-.78.8-2.07 0-2.86zM5.41 20L4 18.59l7.72-7.72 1.47 1.35L5.41 20z\"/>\n",
              "  </svg>\n",
              "      </button>\n",
              "      \n",
              "  <style>\n",
              "    .colab-df-container {\n",
              "      display:flex;\n",
              "      flex-wrap:wrap;\n",
              "      gap: 12px;\n",
              "    }\n",
              "\n",
              "    .colab-df-convert {\n",
              "      background-color: #E8F0FE;\n",
              "      border: none;\n",
              "      border-radius: 50%;\n",
              "      cursor: pointer;\n",
              "      display: none;\n",
              "      fill: #1967D2;\n",
              "      height: 32px;\n",
              "      padding: 0 0 0 0;\n",
              "      width: 32px;\n",
              "    }\n",
              "\n",
              "    .colab-df-convert:hover {\n",
              "      background-color: #E2EBFA;\n",
              "      box-shadow: 0px 1px 2px rgba(60, 64, 67, 0.3), 0px 1px 3px 1px rgba(60, 64, 67, 0.15);\n",
              "      fill: #174EA6;\n",
              "    }\n",
              "\n",
              "    [theme=dark] .colab-df-convert {\n",
              "      background-color: #3B4455;\n",
              "      fill: #D2E3FC;\n",
              "    }\n",
              "\n",
              "    [theme=dark] .colab-df-convert:hover {\n",
              "      background-color: #434B5C;\n",
              "      box-shadow: 0px 1px 3px 1px rgba(0, 0, 0, 0.15);\n",
              "      filter: drop-shadow(0px 1px 2px rgba(0, 0, 0, 0.3));\n",
              "      fill: #FFFFFF;\n",
              "    }\n",
              "  </style>\n",
              "\n",
              "      <script>\n",
              "        const buttonEl =\n",
              "          document.querySelector('#df-9c175c35-6516-4db6-a36a-cebae0a54ec0 button.colab-df-convert');\n",
              "        buttonEl.style.display =\n",
              "          google.colab.kernel.accessAllowed ? 'block' : 'none';\n",
              "\n",
              "        async function convertToInteractive(key) {\n",
              "          const element = document.querySelector('#df-9c175c35-6516-4db6-a36a-cebae0a54ec0');\n",
              "          const dataTable =\n",
              "            await google.colab.kernel.invokeFunction('convertToInteractive',\n",
              "                                                     [key], {});\n",
              "          if (!dataTable) return;\n",
              "\n",
              "          const docLinkHtml = 'Like what you see? Visit the ' +\n",
              "            '<a target=\"_blank\" href=https://colab.research.google.com/notebooks/data_table.ipynb>data table notebook</a>'\n",
              "            + ' to learn more about interactive tables.';\n",
              "          element.innerHTML = '';\n",
              "          dataTable['output_type'] = 'display_data';\n",
              "          await google.colab.output.renderOutput(dataTable, element);\n",
              "          const docLink = document.createElement('div');\n",
              "          docLink.innerHTML = docLinkHtml;\n",
              "          element.appendChild(docLink);\n",
              "        }\n",
              "      </script>\n",
              "    </div>\n",
              "  </div>\n",
              "  "
            ]
          },
          "metadata": {},
          "execution_count": 12
        }
      ],
      "source": [
        "X_train_num=X_train[X_Numerical_Variables].copy()\n",
        "Y_train_num=y_train[Y_Numerical_Variables].copy()\n",
        "\n",
        "train_num = X_train_num\n",
        "train_num[Y_Numerical_Variables]= y_train[Y_Numerical_Variables].copy()\n",
        "train_num.describe()"
      ]
    },
    {
      "cell_type": "code",
      "execution_count": null,
      "metadata": {
        "colab": {
          "base_uri": "https://localhost:8080/",
          "height": 430
        },
        "id": "WqX0A9wbhj6S",
        "outputId": "9a5facb0-0ee8-4cce-d199-49002956f9c3"
      },
      "outputs": [
        {
          "output_type": "display_data",
          "data": {
            "text/plain": [
              "<Figure size 1440x1080 with 2 Axes>"
            ],
            "image/png": "[encoded data removed]"
          },
          "metadata": {}
        }
      ],
      "source": [
        "sns.set(rc={'figure.figsize':(20,15)})\n",
        "\n",
        "figure_1, axes = plt.subplots(1, 2)\n",
        "for i in range(0,2):\n",
        "  plt.subplot(2, 2, (i+1))\n",
        "  plt.boxplot(train_num[train_num.columns[i]])\n",
        "  plt.xlabel(train_num.columns[i])\n",
        "plt.show()"
      ]
    },
    {
      "cell_type": "code",
      "source": [
        "sns.set(rc={'figure.figsize':(20,15)})\n",
        "k=0\n",
        "figure_1, axes = plt.subplots(1, 1)\n",
        "for k in range(0,1):\n",
        "  plt.subplot(2, 4, (k+1))\n",
        "  Transf0 = X_train[X_Numerical_Variables].iloc[:,k].to_numpy().reshape(-1, 1)  #  En esta línea se debe asignar a Transf0 los valores de cada variable \"k\" sin transformar.\n",
        "  plt.hist(Transf0, bins=20) \n",
        "  plt.xlabel(X_Numerical_Variables[k])\n",
        "  if k==0:\n",
        "    plt.ylabel('numeric')\n",
        "plt.show()"
      ],
      "metadata": {
        "colab": {
          "base_uri": "https://localhost:8080/",
          "height": 438
        },
        "id": "roUUI72XfUB6",
        "outputId": "082db793-9650-4ed9-9ca3-5282225d0f16"
      },
      "execution_count": null,
      "outputs": [
        {
          "output_type": "display_data",
          "data": {
            "text/plain": [
              "<Figure size 1440x1080 with 1 Axes>"
            ],
            "image/png": "[encoded data removed]"
          },
          "metadata": {}
        }
      ]
    },
    {
      "cell_type": "code",
      "source": [
        "sns.set(rc={'figure.figsize':(20,15)})\n",
        "k=0\n",
        "figure_1, axes = plt.subplots(1, 1)\n",
        "for k in range(0,1):\n",
        "  plt.subplot(2, 3, (k+1))\n",
        "  Transf0 = y_train[Y_Numerical_Variables].iloc[:,k].to_numpy().reshape(-1, 1)  #  En esta línea se debe asignar a Transf0 los valores de cada variable \"k\" sin transformar.\n",
        "  plt.hist(Transf0, bins=20) \n",
        "  plt.xlabel(Y_Numerical_Variables[k])\n",
        "  if k==0:\n",
        "    plt.ylabel('numeric')\n",
        "plt.show()"
      ],
      "metadata": {
        "colab": {
          "base_uri": "https://localhost:8080/",
          "height": 438
        },
        "id": "233zbgHUiLjt",
        "outputId": "9178bfd0-1500-4b8b-c5ea-b03f0a3a29e7"
      },
      "execution_count": null,
      "outputs": [
        {
          "output_type": "display_data",
          "data": {
            "text/plain": [
              "<Figure size 1440x1080 with 1 Axes>"
            ],
            "image/png": "[encoded data removed]"
          },
          "metadata": {}
        }
      ]
    },
    {
      "cell_type": "markdown",
      "metadata": {
        "id": "A0EL7fOdlaMI"
      },
      "source": [
        "2. **Variables Categóricas**"
      ]
    },
    {
      "cell_type": "code",
      "execution_count": null,
      "metadata": {
        "colab": {
          "base_uri": "https://localhost:8080/",
          "height": 300
        },
        "id": "siTy_6rljcOP",
        "outputId": "3ab934c4-f330-49d0-dcf4-45d9f7adaac8"
      },
      "outputs": [
        {
          "output_type": "execute_result",
          "data": {
            "text/plain": [
              "        Category  Post Month   Post Hour  Post Weekday\n",
              "count  400.00000  400.000000  400.000000     400.00000\n",
              "mean     1.89250    7.110000    7.812500       4.17250\n",
              "std      0.85309    3.324987    4.383535       2.00194\n",
              "min      1.00000    1.000000    1.000000       1.00000\n",
              "25%      1.00000    4.000000    3.000000       2.00000\n",
              "50%      2.00000    7.000000    9.000000       4.00000\n",
              "75%      3.00000   10.000000   11.000000       6.00000\n",
              "max      3.00000   12.000000   23.000000       7.00000"
            ],
            "text/html": [
              "\n",
              "  <div id=\"df-d6021dce-b0f0-4c07-9061-578c219dab5d\">\n",
              "    <div class=\"colab-df-container\">\n",
              "      <div>\n",
              "<style scoped>\n",
              "    .dataframe tbody tr th:only-of-type {\n",
              "        vertical-align: middle;\n",
              "    }\n",
              "\n",
              "    .dataframe tbody tr th {\n",
              "        vertical-align: top;\n",
              "    }\n",
              "\n",
              "    .dataframe thead th {\n",
              "        text-align: right;\n",
              "    }\n",
              "</style>\n",
              "<table border=\"1\" class=\"dataframe\">\n",
              "  <thead>\n",
              "    <tr style=\"text-align: right;\">\n",
              "      <th></th>\n",
              "      <th>Category</th>\n",
              "      <th>Post Month</th>\n",
              "      <th>Post Hour</th>\n",
              "      <th>Post Weekday</th>\n",
              "    </tr>\n",
              "  </thead>\n",
              "  <tbody>\n",
              "    <tr>\n",
              "      <th>count</th>\n",
              "      <td>400.00000</td>\n",
              "      <td>400.000000</td>\n",
              "      <td>400.000000</td>\n",
              "      <td>400.00000</td>\n",
              "    </tr>\n",
              "    <tr>\n",
              "      <th>mean</th>\n",
              "      <td>1.89250</td>\n",
              "      <td>7.110000</td>\n",
              "      <td>7.812500</td>\n",
              "      <td>4.17250</td>\n",
              "    </tr>\n",
              "    <tr>\n",
              "      <th>std</th>\n",
              "      <td>0.85309</td>\n",
              "      <td>3.324987</td>\n",
              "      <td>4.383535</td>\n",
              "      <td>2.00194</td>\n",
              "    </tr>\n",
              "    <tr>\n",
              "      <th>min</th>\n",
              "      <td>1.00000</td>\n",
              "      <td>1.000000</td>\n",
              "      <td>1.000000</td>\n",
              "      <td>1.00000</td>\n",
              "    </tr>\n",
              "    <tr>\n",
              "      <th>25%</th>\n",
              "      <td>1.00000</td>\n",
              "      <td>4.000000</td>\n",
              "      <td>3.000000</td>\n",
              "      <td>2.00000</td>\n",
              "    </tr>\n",
              "    <tr>\n",
              "      <th>50%</th>\n",
              "      <td>2.00000</td>\n",
              "      <td>7.000000</td>\n",
              "      <td>9.000000</td>\n",
              "      <td>4.00000</td>\n",
              "    </tr>\n",
              "    <tr>\n",
              "      <th>75%</th>\n",
              "      <td>3.00000</td>\n",
              "      <td>10.000000</td>\n",
              "      <td>11.000000</td>\n",
              "      <td>6.00000</td>\n",
              "    </tr>\n",
              "    <tr>\n",
              "      <th>max</th>\n",
              "      <td>3.00000</td>\n",
              "      <td>12.000000</td>\n",
              "      <td>23.000000</td>\n",
              "      <td>7.00000</td>\n",
              "    </tr>\n",
              "  </tbody>\n",
              "</table>\n",
              "</div>\n",
              "      <button class=\"colab-df-convert\" onclick=\"convertToInteractive('df-d6021dce-b0f0-4c07-9061-578c219dab5d')\"\n",
              "              title=\"Convert this dataframe to an interactive table.\"\n",
              "              style=\"display:none;\">\n",
              "        \n",
              "  <svg xmlns=\"http://www.w3.org/2000/svg\" height=\"24px\"viewBox=\"0 0 24 24\"\n",
              "       width=\"24px\">\n",
              "    <path d=\"M0 0h24v24H0V0z\" fill=\"none\"/>\n",
              "    <path d=\"M18.56 5.44l.94 2.06.94-2.06 2.06-.94-2.06-.94-.94-2.06-.94 2.06-2.06.94zm-11 1L8.5 8.5l.94-2.06 2.06-.94-2.06-.94L8.5 2.5l-.94 2.06-2.06.94zm10 10l.94 2.06.94-2.06 2.06-.94-2.06-.94-.94-2.06-.94 2.06-2.06.94z\"/><path d=\"M17.41 7.96l-1.37-1.37c-.4-.4-.92-.59-1.43-.59-.52 0-1.04.2-1.43.59L10.3 9.45l-7.72 7.72c-.78.78-.78 2.05 0 2.83L4 21.41c.39.39.9.59 1.41.59.51 0 1.02-.2 1.41-.59l7.78-7.78 2.81-2.81c.8-.78.8-2.07 0-2.86zM5.41 20L4 18.59l7.72-7.72 1.47 1.35L5.41 20z\"/>\n",
              "  </svg>\n",
              "      </button>\n",
              "      \n",
              "  <style>\n",
              "    .colab-df-container {\n",
              "      display:flex;\n",
              "      flex-wrap:wrap;\n",
              "      gap: 12px;\n",
              "    }\n",
              "\n",
              "    .colab-df-convert {\n",
              "      background-color: #E8F0FE;\n",
              "      border: none;\n",
              "      border-radius: 50%;\n",
              "      cursor: pointer;\n",
              "      display: none;\n",
              "      fill: #1967D2;\n",
              "      height: 32px;\n",
              "      padding: 0 0 0 0;\n",
              "      width: 32px;\n",
              "    }\n",
              "\n",
              "    .colab-df-convert:hover {\n",
              "      background-color: #E2EBFA;\n",
              "      box-shadow: 0px 1px 2px rgba(60, 64, 67, 0.3), 0px 1px 3px 1px rgba(60, 64, 67, 0.15);\n",
              "      fill: #174EA6;\n",
              "    }\n",
              "\n",
              "    [theme=dark] .colab-df-convert {\n",
              "      background-color: #3B4455;\n",
              "      fill: #D2E3FC;\n",
              "    }\n",
              "\n",
              "    [theme=dark] .colab-df-convert:hover {\n",
              "      background-color: #434B5C;\n",
              "      box-shadow: 0px 1px 3px 1px rgba(0, 0, 0, 0.15);\n",
              "      filter: drop-shadow(0px 1px 2px rgba(0, 0, 0, 0.3));\n",
              "      fill: #FFFFFF;\n",
              "    }\n",
              "  </style>\n",
              "\n",
              "      <script>\n",
              "        const buttonEl =\n",
              "          document.querySelector('#df-d6021dce-b0f0-4c07-9061-578c219dab5d button.colab-df-convert');\n",
              "        buttonEl.style.display =\n",
              "          google.colab.kernel.accessAllowed ? 'block' : 'none';\n",
              "\n",
              "        async function convertToInteractive(key) {\n",
              "          const element = document.querySelector('#df-d6021dce-b0f0-4c07-9061-578c219dab5d');\n",
              "          const dataTable =\n",
              "            await google.colab.kernel.invokeFunction('convertToInteractive',\n",
              "                                                     [key], {});\n",
              "          if (!dataTable) return;\n",
              "\n",
              "          const docLinkHtml = 'Like what you see? Visit the ' +\n",
              "            '<a target=\"_blank\" href=https://colab.research.google.com/notebooks/data_table.ipynb>data table notebook</a>'\n",
              "            + ' to learn more about interactive tables.';\n",
              "          element.innerHTML = '';\n",
              "          dataTable['output_type'] = 'display_data';\n",
              "          await google.colab.output.renderOutput(dataTable, element);\n",
              "          const docLink = document.createElement('div');\n",
              "          docLink.innerHTML = docLinkHtml;\n",
              "          element.appendChild(docLink);\n",
              "        }\n",
              "      </script>\n",
              "    </div>\n",
              "  </div>\n",
              "  "
            ]
          },
          "metadata": {},
          "execution_count": 16
        }
      ],
      "source": [
        "X_train_cat=X_train[Categorical_Variables].copy()\n",
        "X_train_cat.describe()"
      ]
    },
    {
      "cell_type": "code",
      "execution_count": null,
      "metadata": {
        "colab": {
          "base_uri": "https://localhost:8080/",
          "height": 903
        },
        "id": "0GtyHqMFjmuK",
        "outputId": "5803f08a-61a7-4acb-975c-3c7634cefae4"
      },
      "outputs": [
        {
          "output_type": "display_data",
          "data": {
            "text/plain": [
              "<Figure size 1440x1080 with 4 Axes>"
            ],
            "image/png": "[encoded data removed]"
          },
          "metadata": {}
        }
      ],
      "source": [
        "sns.set(rc={'figure.figsize':(20,15)})\n",
        "\n",
        "figure_2, axes = plt.subplots(1, 4)\n",
        "for i in range(0,4):\n",
        "  plt.subplot(1, 4, (i+1))\n",
        "  plt.boxplot(X_train_cat[X_train_cat.columns[i]])\n",
        "  plt.xlabel(X_train_cat.columns[i])\n",
        "plt.show()"
      ]
    },
    {
      "cell_type": "code",
      "source": [
        "sns.set(rc={'figure.figsize':(20,15)})\n",
        "k=0\n",
        "figure_1, axes = plt.subplots(1, 5)\n",
        "for k in range(0,5):\n",
        "  plt.subplot(2, 5, (k+1))\n",
        "  Transf0 = X_train[Categorical_Variables].iloc[:,k].to_numpy().reshape(-1, 1)  #  En esta línea se debe asignar a Transf0 los valores de cada variable \"k\" sin transformar.\n",
        "  plt.hist(Transf0, bins=20) \n",
        "  plt.xlabel(Categorical_Variables[k])\n",
        "  if k==0:\n",
        "    plt.ylabel('numeric')\n",
        "plt.show()"
      ],
      "metadata": {
        "colab": {
          "base_uri": "https://localhost:8080/",
          "height": 429
        },
        "id": "mcQfBSH7inOB",
        "outputId": "8e83d2ce-73f3-4551-8325-b69cb2c2c565"
      },
      "execution_count": null,
      "outputs": [
        {
          "output_type": "display_data",
          "data": {
            "text/plain": [
              "<Figure size 1440x1080 with 5 Axes>"
            ],
            "image/png": "[encoded data removed]"
          },
          "metadata": {}
        }
      ]
    },
    {
      "cell_type": "markdown",
      "metadata": {
        "id": "tQwXa9XIlgNJ"
      },
      "source": [
        " 3. **Variables Binarias**"
      ]
    },
    {
      "cell_type": "code",
      "execution_count": null,
      "metadata": {
        "colab": {
          "base_uri": "https://localhost:8080/",
          "height": 300
        },
        "id": "7soyCoWaj1Lr",
        "outputId": "2cdf8e9c-3843-4196-ad46-c01ce2365135"
      },
      "outputs": [
        {
          "output_type": "execute_result",
          "data": {
            "text/plain": [
              "             Paid\n",
              "count  399.000000\n",
              "mean     0.293233\n",
              "std      0.455816\n",
              "min      0.000000\n",
              "25%      0.000000\n",
              "50%      0.000000\n",
              "75%      1.000000\n",
              "max      1.000000"
            ],
            "text/html": [
              "\n",
              "  <div id=\"df-b3a6fee9-f68d-40f1-8ae8-e1681b3dc81a\">\n",
              "    <div class=\"colab-df-container\">\n",
              "      <div>\n",
              "<style scoped>\n",
              "    .dataframe tbody tr th:only-of-type {\n",
              "        vertical-align: middle;\n",
              "    }\n",
              "\n",
              "    .dataframe tbody tr th {\n",
              "        vertical-align: top;\n",
              "    }\n",
              "\n",
              "    .dataframe thead th {\n",
              "        text-align: right;\n",
              "    }\n",
              "</style>\n",
              "<table border=\"1\" class=\"dataframe\">\n",
              "  <thead>\n",
              "    <tr style=\"text-align: right;\">\n",
              "      <th></th>\n",
              "      <th>Paid</th>\n",
              "    </tr>\n",
              "  </thead>\n",
              "  <tbody>\n",
              "    <tr>\n",
              "      <th>count</th>\n",
              "      <td>399.000000</td>\n",
              "    </tr>\n",
              "    <tr>\n",
              "      <th>mean</th>\n",
              "      <td>0.293233</td>\n",
              "    </tr>\n",
              "    <tr>\n",
              "      <th>std</th>\n",
              "      <td>0.455816</td>\n",
              "    </tr>\n",
              "    <tr>\n",
              "      <th>min</th>\n",
              "      <td>0.000000</td>\n",
              "    </tr>\n",
              "    <tr>\n",
              "      <th>25%</th>\n",
              "      <td>0.000000</td>\n",
              "    </tr>\n",
              "    <tr>\n",
              "      <th>50%</th>\n",
              "      <td>0.000000</td>\n",
              "    </tr>\n",
              "    <tr>\n",
              "      <th>75%</th>\n",
              "      <td>1.000000</td>\n",
              "    </tr>\n",
              "    <tr>\n",
              "      <th>max</th>\n",
              "      <td>1.000000</td>\n",
              "    </tr>\n",
              "  </tbody>\n",
              "</table>\n",
              "</div>\n",
              "      <button class=\"colab-df-convert\" onclick=\"convertToInteractive('df-b3a6fee9-f68d-40f1-8ae8-e1681b3dc81a')\"\n",
              "              title=\"Convert this dataframe to an interactive table.\"\n",
              "              style=\"display:none;\">\n",
              "        \n",
              "  <svg xmlns=\"http://www.w3.org/2000/svg\" height=\"24px\"viewBox=\"0 0 24 24\"\n",
              "       width=\"24px\">\n",
              "    <path d=\"M0 0h24v24H0V0z\" fill=\"none\"/>\n",
              "    <path d=\"M18.56 5.44l.94 2.06.94-2.06 2.06-.94-2.06-.94-.94-2.06-.94 2.06-2.06.94zm-11 1L8.5 8.5l.94-2.06 2.06-.94-2.06-.94L8.5 2.5l-.94 2.06-2.06.94zm10 10l.94 2.06.94-2.06 2.06-.94-2.06-.94-.94-2.06-.94 2.06-2.06.94z\"/><path d=\"M17.41 7.96l-1.37-1.37c-.4-.4-.92-.59-1.43-.59-.52 0-1.04.2-1.43.59L10.3 9.45l-7.72 7.72c-.78.78-.78 2.05 0 2.83L4 21.41c.39.39.9.59 1.41.59.51 0 1.02-.2 1.41-.59l7.78-7.78 2.81-2.81c.8-.78.8-2.07 0-2.86zM5.41 20L4 18.59l7.72-7.72 1.47 1.35L5.41 20z\"/>\n",
              "  </svg>\n",
              "      </button>\n",
              "      \n",
              "  <style>\n",
              "    .colab-df-container {\n",
              "      display:flex;\n",
              "      flex-wrap:wrap;\n",
              "      gap: 12px;\n",
              "    }\n",
              "\n",
              "    .colab-df-convert {\n",
              "      background-color: #E8F0FE;\n",
              "      border: none;\n",
              "      border-radius: 50%;\n",
              "      cursor: pointer;\n",
              "      display: none;\n",
              "      fill: #1967D2;\n",
              "      height: 32px;\n",
              "      padding: 0 0 0 0;\n",
              "      width: 32px;\n",
              "    }\n",
              "\n",
              "    .colab-df-convert:hover {\n",
              "      background-color: #E2EBFA;\n",
              "      box-shadow: 0px 1px 2px rgba(60, 64, 67, 0.3), 0px 1px 3px 1px rgba(60, 64, 67, 0.15);\n",
              "      fill: #174EA6;\n",
              "    }\n",
              "\n",
              "    [theme=dark] .colab-df-convert {\n",
              "      background-color: #3B4455;\n",
              "      fill: #D2E3FC;\n",
              "    }\n",
              "\n",
              "    [theme=dark] .colab-df-convert:hover {\n",
              "      background-color: #434B5C;\n",
              "      box-shadow: 0px 1px 3px 1px rgba(0, 0, 0, 0.15);\n",
              "      filter: drop-shadow(0px 1px 2px rgba(0, 0, 0, 0.3));\n",
              "      fill: #FFFFFF;\n",
              "    }\n",
              "  </style>\n",
              "\n",
              "      <script>\n",
              "        const buttonEl =\n",
              "          document.querySelector('#df-b3a6fee9-f68d-40f1-8ae8-e1681b3dc81a button.colab-df-convert');\n",
              "        buttonEl.style.display =\n",
              "          google.colab.kernel.accessAllowed ? 'block' : 'none';\n",
              "\n",
              "        async function convertToInteractive(key) {\n",
              "          const element = document.querySelector('#df-b3a6fee9-f68d-40f1-8ae8-e1681b3dc81a');\n",
              "          const dataTable =\n",
              "            await google.colab.kernel.invokeFunction('convertToInteractive',\n",
              "                                                     [key], {});\n",
              "          if (!dataTable) return;\n",
              "\n",
              "          const docLinkHtml = 'Like what you see? Visit the ' +\n",
              "            '<a target=\"_blank\" href=https://colab.research.google.com/notebooks/data_table.ipynb>data table notebook</a>'\n",
              "            + ' to learn more about interactive tables.';\n",
              "          element.innerHTML = '';\n",
              "          dataTable['output_type'] = 'display_data';\n",
              "          await google.colab.output.renderOutput(dataTable, element);\n",
              "          const docLink = document.createElement('div');\n",
              "          docLink.innerHTML = docLinkHtml;\n",
              "          element.appendChild(docLink);\n",
              "        }\n",
              "      </script>\n",
              "    </div>\n",
              "  </div>\n",
              "  "
            ]
          },
          "metadata": {},
          "execution_count": 19
        }
      ],
      "source": [
        "X_train_bin=X_train[Binary].copy()\n",
        "X_train_bin.describe()"
      ]
    },
    {
      "cell_type": "code",
      "execution_count": null,
      "metadata": {
        "colab": {
          "base_uri": "https://localhost:8080/",
          "height": 438
        },
        "id": "3-xVMy6vkYtw",
        "outputId": "b9b2faac-2123-43a7-c7cd-c4246431a5ae"
      },
      "outputs": [
        {
          "output_type": "display_data",
          "data": {
            "text/plain": [
              "<Figure size 1440x1080 with 1 Axes>"
            ],
            "image/png": "[encoded data removed]"
          },
          "metadata": {}
        }
      ],
      "source": [
        "sns.set(rc={'figure.figsize':(20,15)})\n",
        "\n",
        "figure_3, axes = plt.subplots(1, 1)\n",
        "for i in range(0,1):\n",
        "  plt.subplot(2, 3, (i+1))\n",
        "  plt.boxplot(X_train_bin[X_train_bin.columns[i]])\n",
        "  plt.xlabel(X_train_bin.columns[i])\n",
        "plt.show()"
      ]
    },
    {
      "cell_type": "code",
      "source": [
        "sns.set(rc={'figure.figsize':(20,15)})\n",
        "k=0\n",
        "figure_1, axes = plt.subplots(1, 1)\n",
        "for k in range(0,1):\n",
        "  plt.subplot(2, 3, (k+1))\n",
        "  Transf0 = X_train[Binary].iloc[:,k].to_numpy().reshape(-1, 1)  #  En esta línea se debe asignar a Transf0 los valores de cada variable \"k\" sin transformar.\n",
        "  plt.hist(Transf0, bins=20) \n",
        "  plt.xlabel(Binary[k])\n",
        "  if k==0:\n",
        "    plt.ylabel('numeric')\n",
        "plt.show()"
      ],
      "metadata": {
        "colab": {
          "base_uri": "https://localhost:8080/",
          "height": 438
        },
        "id": "4t_YU_6fjWBJ",
        "outputId": "1af00143-39db-4a74-b28c-f029c7a3f491"
      },
      "execution_count": null,
      "outputs": [
        {
          "output_type": "display_data",
          "data": {
            "text/plain": [
              "<Figure size 1440x1080 with 1 Axes>"
            ],
            "image/png": "[encoded data removed]"
          },
          "metadata": {}
        }
      ]
    },
    {
      "cell_type": "markdown",
      "metadata": {
        "id": "fqOlBXhLln8t"
      },
      "source": [
        "##IMPUTACION Y TRANSFORMACIÓN"
      ]
    },
    {
      "cell_type": "markdown",
      "source": [
        "Después de analizar nuestros datos y su distribución podemos concluir que si necesitamos imputaciones para llenar los valores faltantes y transformaciones para mantener nuestros datos en una escala parecida. \n",
        "\n",
        "\n",
        "> **Valores numéricos:**\n",
        "\n"
      ],
      "metadata": {
        "id": "CYn8lwa_aLh1"
      }
    },
    {
      "cell_type": "code",
      "source": [
        "#Transformación e imputación para valores Numéricos.\n",
        "#Decidimos utilizar la imputación mediana y transformación MinMax.\n",
        "num_pipeline =  Pipeline(steps = [('impMedian', SimpleImputer(strategy='median')),  \n",
        "                                        ('scalar', MinMaxScaler(feature_range=(1,2))) ,\n",
        "                                         ('box-cox',PowerTransformer(method='box-cox'))])  \n",
        "num_pipeline_nombres = X_Numerical_Variables"
      ],
      "metadata": {
        "id": "qbL93TuCUJzX"
      },
      "execution_count": null,
      "outputs": []
    },
    {
      "cell_type": "markdown",
      "source": [
        "> **Valores categóricos:**\n"
      ],
      "metadata": {
        "id": "IVPrKZL3UL1G"
      }
    },
    {
      "cell_type": "code",
      "source": [
        "#Transformación e imputación para valores Categóricos.\n",
        "#Decidimos utilizar el modo de imputación y Transformación de One Hot Encoding.\n",
        "cat_pipeline = Pipeline(steps = [('impModa', SimpleImputer(strategy='most_frequent')), ('OneHotE', OneHotEncoder(handle_unknown = \"ignore\"))])  \n",
        "cat_pipeline_nombres = Categorical_Variables"
      ],
      "metadata": {
        "id": "syxFTTUZUeb7"
      },
      "execution_count": null,
      "outputs": []
    },
    {
      "cell_type": "markdown",
      "source": [
        "> **Valores binarios:**"
      ],
      "metadata": {
        "id": "AhrDjBIbUjck"
      }
    },
    {
      "cell_type": "code",
      "source": [
        "#Transformación e imputación para valores Binarios.\n",
        "#Decidimos utilizar el modo de imputación y Transformación de One Hot Encoding.\n",
        "bin_pipeline = Pipeline(steps = [('impModa', SimpleImputer(strategy='most_frequent')), ('OneHotE', OneHotEncoder(handle_unknown = \"ignore\"))])\n",
        "bin_pipeline_nombres = Binary\n",
        "\n",
        "# Conjuntamos las transformaciones numéricas y categóricas que se estarán aplicando a los datos de entrada:\n",
        "columnasTransformer = ColumnTransformer(transformers = [('numpipe', num_pipeline, num_pipeline_nombres),\n",
        "                                                        ('catpipe', cat_pipeline, cat_pipeline_nombres),\n",
        "                                                        ('binpipe', bin_pipeline, bin_pipeline_nombres)],\n",
        "                                        remainder='passthrough')"
      ],
      "metadata": {
        "id": "Bv6QG4SGUoAv"
      },
      "execution_count": null,
      "outputs": []
    },
    {
      "cell_type": "code",
      "source": [
        "# Transformación para disminuir sesgo positivo:\n",
        "def y_Transform(Y):\n",
        "  #print(\"Transf(y)\\n\")  # Por si deseas ver cuándo se manda llamar esta función.\n",
        "  Y_ = Y.copy() \n",
        "  Y_ = np.log(Y_)\n",
        "  return Y_\n",
        "\n",
        "# Inversa de la variable de salida que se usará para las predicciones:\n",
        "def y_inverseTransform(Y):\n",
        "  #print(\"invTransf(y)\\n\")\n",
        "  Y_ = Y.copy() \n",
        "  Y_ = np.exp(Y_)\n",
        "  return Y_"
      ],
      "metadata": {
        "id": "9qzktMqCXM9E"
      },
      "execution_count": null,
      "outputs": []
    },
    {
      "cell_type": "markdown",
      "metadata": {
        "id": "KX6YGmnn91vY"
      },
      "source": [
        "#**Ejercicio-5.**"
      ]
    },
    {
      "cell_type": "markdown",
      "source": [
        "Utiliza la función Dummy para modelos de regresión de scikit-learn con el conjunto que tienes de \n",
        "datos de entrenamiento y validación. Para ello particiónalos en 100 para validación y 300 para \n",
        "entrenamiento. Encuentra los errores RMSE, MAE y MAPE para los conjuntos de entrenamiento y \n",
        "validación. Estos serán tus errores máximos que deberás tomar como referencia en el resto de la \n",
        "actividad. "
      ],
      "metadata": {
        "id": "NlRIhXfeVypo"
      }
    },
    {
      "cell_type": "code",
      "source": [
        "#MODELO DUMMYREGRESSOR\n",
        "from sklearn.dummy import DummyRegressor\n",
        "dummy_xtrain, dummy_xval, dummy_ytrain, dummy_yval= train_test_split(X_train, y_train, train_size=0.75, random_state=3)\n",
        "modeloDummy= DummyRegressor(strategy='median')\n",
        "\n",
        "pipeline = Pipeline(steps=[('ct',columnasTransformer),('modelo',modeloDummy)])\n",
        "\n",
        "modelo = TransformedTargetRegressor(regressor=pipeline, \n",
        "                                    func= y_Transform,     # transformación para ajuste del sesgo.\n",
        "                                    inverse_func=y_inverseTransform    # Para regresar los valores \"y\" en la escala original.\n",
        "                                    )\n",
        "\n",
        "\n",
        "modelo.fit(dummy_xtrain,dummy_ytrain)\n",
        "\n",
        "yhat= modelo.predict(dummy_xval)\n",
        "\n",
        "print(\"RMSE with dummy Regression:\", (my_RMSE(dummy_yval, yhat)))\n",
        "\n",
        "print(\"MAE with dummy Regression:\", (my_MAE(dummy_yval, yhat)))\n",
        "\n",
        "print(\"MAPE with dummy Regression:\", (my_MAPE(dummy_yval, yhat)))\n"
      ],
      "metadata": {
        "colab": {
          "base_uri": "https://localhost:8080/"
        },
        "id": "b8Cz-KauVxmi",
        "outputId": "1e610ae7-50bd-4a05-c00f-c64797679ac8"
      },
      "execution_count": null,
      "outputs": [
        {
          "output_type": "stream",
          "name": "stdout",
          "text": [
            "RMSE with dummy Regression: LPE    656.274874\n",
            "dtype: float64\n",
            "MAE with dummy Regression: LPE    348.209988\n",
            "dtype: float64\n",
            "MAPE with dummy Regression: LPE    1.077118\n",
            "dtype: float64\n"
          ]
        }
      ]
    },
    {
      "cell_type": "markdown",
      "source": [
        "#**Ejercicio-6.**"
      ],
      "metadata": {
        "id": "FEi0Jz0_V0ug"
      }
    },
    {
      "cell_type": "markdown",
      "source": [
        "Usando los modelos de regresión lineal múltiple, el bosque aleatorio y el perceptrón multicapa con \n",
        "sus valores predeterminados, lleva a cabo su entrenamiento con repeticiones de validación cruzada \n",
        "(RepeatedKFold) y desplegando los errores RMSE, MAE y MAPE. Recuerda evitar el filtrado de \n",
        "información usando los datos que obtuviste en el ejercicio 2. Incluye las conclusiones sobre el mejor \n",
        "modelo encontrado en esta primera aproximación. En particular ¿hay alguno sobreentrenado o \n",
        "subentrenado? NOTA: Recuerda que puedes aumentar en dado caso el número máximo de \n",
        "iteraciones para que todos los modelos converjan.   "
      ],
      "metadata": {
        "id": "OPd8wlmAfftE"
      }
    },
    {
      "cell_type": "markdown",
      "source": [
        "A continuación definiremos nuestro ciclo FOR en donde se realizará el entrenamiento de los tres modelos. Cómo se especifica en las instrucciones se utlizan las funciones de las métricas definidas por nosotros, se define el Kfold y se imprimen los resultados tanto de nuestro modelo con los datos de entrenamiento y validación."
      ],
      "metadata": {
        "id": "yZhq-LDJ0CGf"
      }
    },
    {
      "cell_type": "code",
      "execution_count": null,
      "metadata": {
        "colab": {
          "base_uri": "https://localhost:8080/"
        },
        "id": "7KXnlNzAC69Y",
        "outputId": "4afa87c5-7751-4d73-cfaf-0894e2ee6cdc"
      },
      "outputs": [
        {
          "metadata": {
            "tags": null
          },
          "name": "stdout",
          "output_type": "stream",
          "text": [
            "VALIDATION METRIC SCORES\n",
            "Regresión Lineal Múltiple:\n",
            "mean RMSE: 657.525 (95.6832)\n",
            "mean MAPE: 0.856 (0.3510)\n",
            "mean MAE: 353.083 (47.6063)\n",
            "\n",
            "VALIDATION METRIC SCORES\n",
            "Random Forest:\n",
            "mean RMSE: 671.855 (76.7784)\n",
            "mean MAPE: 1.034 (0.3680)\n",
            "mean MAE: 388.735 (42.1305)\n",
            "\n"
          ]
        },
        {
          "metadata": {
            "tags": null
          },
          "name": "stderr",
          "output_type": "stream",
          "text": [
            "/usr/local/lib/python3.7/dist-packages/sklearn/neural_network/_multilayer_perceptron.py:696: ConvergenceWarning: Stochastic Optimizer: Maximum iterations (20000) reached and the optimization hasn't converged yet.\n",
            "  ConvergenceWarning,\n",
            "/usr/local/lib/python3.7/dist-packages/sklearn/neural_network/_multilayer_perceptron.py:696: ConvergenceWarning: Stochastic Optimizer: Maximum iterations (20000) reached and the optimization hasn't converged yet.\n",
            "  ConvergenceWarning,\n",
            "/usr/local/lib/python3.7/dist-packages/sklearn/neural_network/_multilayer_perceptron.py:696: ConvergenceWarning: Stochastic Optimizer: Maximum iterations (20000) reached and the optimization hasn't converged yet.\n",
            "  ConvergenceWarning,\n",
            "/usr/local/lib/python3.7/dist-packages/sklearn/neural_network/_multilayer_perceptron.py:696: ConvergenceWarning: Stochastic Optimizer: Maximum iterations (20000) reached and the optimization hasn't converged yet.\n",
            "  ConvergenceWarning,\n"
          ]
        },
        {
          "output_type": "stream",
          "name": "stdout",
          "text": [
            "VALIDATION METRIC SCORES\n",
            "Perceptrón Multicapa:\n",
            "mean RMSE: 645.541 (84.2877)\n",
            "mean MAPE: 1.305 (0.4924)\n",
            "mean MAE: 426.996 (48.3895)\n",
            "\n"
          ]
        },
        {
          "output_type": "stream",
          "name": "stderr",
          "text": [
            "/usr/local/lib/python3.7/dist-packages/sklearn/neural_network/_multilayer_perceptron.py:696: ConvergenceWarning: Stochastic Optimizer: Maximum iterations (20000) reached and the optimization hasn't converged yet.\n",
            "  ConvergenceWarning,\n"
          ]
        }
      ],
      "source": [
        "models = [LogisticRegression(max_iter=3000),  RandomForestClassifier(), MLPRegressor(max_iter=20000)]\n",
        "model_names = [\"Regresión Lineal Múltiple\", \"Random Forest\", \"Perceptrón Multicapa\"] \n",
        "results= list()\n",
        "\n",
        "for i in range(len(models)):\n",
        "        \n",
        "        #\n",
        "        pipeline = Pipeline(steps = [('ct', columnasTransformer), (model_names[i], models[i])])\n",
        "        modelo= TransformedTargetRegressor(regressor= pipeline, func=y_Transform, inverse_func= y_inverseTransform)\n",
        "        #\n",
        "        metrics= {'RMSE':make_scorer(my_RMSE), 'MAPE':make_scorer(my_MAPE), 'MAE':make_scorer(my_MAE) }\n",
        "        kfold = RepeatedKFold(n_splits=5, n_repeats=1, random_state=10)\n",
        "        scores = cross_validate(estimator=pipeline, X=X_train, y=np.ravel(y_train), scoring=metrics, cv=kfold)\n",
        "    \n",
        "        #El score de cada iteración es almacenado en la lista \"scores\"\n",
        "        results.append(scores)\n",
        "    \n",
        "\n",
        "        #Imprimos el resultado para cada modelo\n",
        "\n",
        "\n",
        "        print('VALIDATION METRIC SCORES\\n'+'%s:\\nmean RMSE: %.3f (%.4f)\\nmean MAPE: %.3f (%.4f)\\nmean MAE: %.3f (%.4f)\\n' % (model_names[i],\n",
        "                                                                          np.mean(scores['test_RMSE']),\n",
        "                                                                          np.std(scores['test_RMSE']),\n",
        "                                                                          np.mean(scores['test_MAPE']), \n",
        "                                                                          np.std(scores['test_MAPE']),\n",
        "                                                                          np.mean(scores['test_MAE']),\n",
        "                                                                          np.std(scores['test_MAE']), \n",
        "                                                                          ))\n"
      ]
    },
    {
      "cell_type": "markdown",
      "source": [
        "#**Ejercicio-7.**"
      ],
      "metadata": {
        "id": "iCNGx4TQ8CFI"
      }
    },
    {
      "cell_type": "markdown",
      "source": [
        "7. Obtener los diagramas de caja y bigote para los errores MAPE de los conjuntos de validación obtenidos. En particular compara estos primeros resultados de MAPE con el mejor resultado que encuentran los autores del artículo citado al inicio. Incluye tus conclusiones. \n"
      ],
      "metadata": {
        "id": "uqVG44Ht8LPc"
      }
    },
    {
      "cell_type": "code",
      "execution_count": null,
      "metadata": {
        "colab": {
          "base_uri": "https://localhost:8080/",
          "height": 268
        },
        "id": "DB4Ldj3l34t-",
        "outputId": "88544a89-7f56-4269-dd5f-7ddce15b3959"
      },
      "outputs": [
        {
          "output_type": "display_data",
          "data": {
            "text/plain": [
              "<Figure size 576x288 with 1 Axes>"
            ],
            "image/png": "[encoded data removed]"
          },
          "metadata": {}
        }
      ],
      "source": [
        "sns.set(rc={'figure.figsize':(8,4)})\n",
        "bpMAPE = list()\n",
        "for i in range(len(results)):\n",
        "  rr = results[i]['test_MAPE']\n",
        "  bpMAPE.append(rr)\n",
        "\n",
        "plt.boxplot(bpMAPE, labels=model_names, showmeans=True)\n",
        "plt.show()\n"
      ]
    },
    {
      "cell_type": "markdown",
      "metadata": {
        "id": "7ql_r2G-DB_m"
      },
      "source": [
        "###**Fin de la Actividad de la semana 7.**"
      ]
    }
  ],
  "metadata": {
    "accelerator": "GPU",
    "colab": {
      "collapsed_sections": [],
      "provenance": [],
      "include_colab_link": true
    },
    "kernelspec": {
      "display_name": "Python 3",
      "name": "python3"
    }
  },
  "nbformat": 4,
  "nbformat_minor": 0
}